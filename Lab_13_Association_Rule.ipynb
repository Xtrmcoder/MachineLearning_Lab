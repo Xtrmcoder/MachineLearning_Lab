{
  "cells": [
    {
      "cell_type": "markdown",
      "metadata": {
        "id": "view-in-github",
        "colab_type": "text"
      },
      "source": [
        "<a href=\"https://colab.research.google.com/github/Xtrmcoder/MachineLearning_Lab/blob/main/Lab_13_Association_Rule.ipynb\" target=\"_parent\"><img src=\"https://colab.research.google.com/assets/colab-badge.svg\" alt=\"Open In Colab\"/></a>"
      ]
    },
    {
      "cell_type": "code",
      "execution_count": null,
      "id": "f48275da-9878-4e24-b6be-24b6d7378736",
      "metadata": {
        "id": "f48275da-9878-4e24-b6be-24b6d7378736",
        "outputId": "054ae1dd-8619-4793-d8c1-1a4a44ef6353"
      },
      "outputs": [
        {
          "name": "stdout",
          "output_type": "stream",
          "text": [
            "Collecting mlxtend\n",
            "  Downloading mlxtend-0.23.4-py3-none-any.whl.metadata (7.3 kB)\n",
            "Requirement already satisfied: scipy>=1.2.1 in c:\\users\\sit.lab7\\appdata\\local\\anaconda3\\lib\\site-packages (from mlxtend) (1.13.1)\n",
            "Requirement already satisfied: numpy>=1.16.2 in c:\\users\\sit.lab7\\appdata\\local\\anaconda3\\lib\\site-packages (from mlxtend) (1.26.4)\n",
            "Requirement already satisfied: pandas>=0.24.2 in c:\\users\\sit.lab7\\appdata\\local\\anaconda3\\lib\\site-packages (from mlxtend) (2.2.2)\n",
            "Requirement already satisfied: scikit-learn>=1.3.1 in c:\\users\\sit.lab7\\appdata\\local\\anaconda3\\lib\\site-packages (from mlxtend) (1.5.1)\n",
            "Requirement already satisfied: matplotlib>=3.0.0 in c:\\users\\sit.lab7\\appdata\\local\\anaconda3\\lib\\site-packages (from mlxtend) (3.9.2)\n",
            "Requirement already satisfied: joblib>=0.13.2 in c:\\users\\sit.lab7\\appdata\\local\\anaconda3\\lib\\site-packages (from mlxtend) (1.4.2)\n",
            "Requirement already satisfied: contourpy>=1.0.1 in c:\\users\\sit.lab7\\appdata\\local\\anaconda3\\lib\\site-packages (from matplotlib>=3.0.0->mlxtend) (1.2.0)\n",
            "Requirement already satisfied: cycler>=0.10 in c:\\users\\sit.lab7\\appdata\\local\\anaconda3\\lib\\site-packages (from matplotlib>=3.0.0->mlxtend) (0.11.0)\n",
            "Requirement already satisfied: fonttools>=4.22.0 in c:\\users\\sit.lab7\\appdata\\local\\anaconda3\\lib\\site-packages (from matplotlib>=3.0.0->mlxtend) (4.51.0)\n",
            "Requirement already satisfied: kiwisolver>=1.3.1 in c:\\users\\sit.lab7\\appdata\\local\\anaconda3\\lib\\site-packages (from matplotlib>=3.0.0->mlxtend) (1.4.4)\n",
            "Requirement already satisfied: packaging>=20.0 in c:\\users\\sit.lab7\\appdata\\local\\anaconda3\\lib\\site-packages (from matplotlib>=3.0.0->mlxtend) (24.1)\n",
            "Requirement already satisfied: pillow>=8 in c:\\users\\sit.lab7\\appdata\\local\\anaconda3\\lib\\site-packages (from matplotlib>=3.0.0->mlxtend) (10.4.0)\n",
            "Requirement already satisfied: pyparsing>=2.3.1 in c:\\users\\sit.lab7\\appdata\\local\\anaconda3\\lib\\site-packages (from matplotlib>=3.0.0->mlxtend) (3.1.2)\n",
            "Requirement already satisfied: python-dateutil>=2.7 in c:\\users\\sit.lab7\\appdata\\local\\anaconda3\\lib\\site-packages (from matplotlib>=3.0.0->mlxtend) (2.9.0.post0)\n",
            "Requirement already satisfied: pytz>=2020.1 in c:\\users\\sit.lab7\\appdata\\local\\anaconda3\\lib\\site-packages (from pandas>=0.24.2->mlxtend) (2024.1)\n",
            "Requirement already satisfied: tzdata>=2022.7 in c:\\users\\sit.lab7\\appdata\\local\\anaconda3\\lib\\site-packages (from pandas>=0.24.2->mlxtend) (2023.3)\n",
            "Requirement already satisfied: threadpoolctl>=3.1.0 in c:\\users\\sit.lab7\\appdata\\local\\anaconda3\\lib\\site-packages (from scikit-learn>=1.3.1->mlxtend) (3.5.0)\n",
            "Requirement already satisfied: six>=1.5 in c:\\users\\sit.lab7\\appdata\\local\\anaconda3\\lib\\site-packages (from python-dateutil>=2.7->matplotlib>=3.0.0->mlxtend) (1.16.0)\n",
            "Downloading mlxtend-0.23.4-py3-none-any.whl (1.4 MB)\n",
            "   ---------------------------------------- 0.0/1.4 MB ? eta -:--:--\n",
            "   ---------------------------------------- 1.4/1.4 MB 23.2 MB/s eta 0:00:00\n",
            "Installing collected packages: mlxtend\n",
            "Successfully installed mlxtend-0.23.4\n",
            "Note: you may need to restart the kernel to use updated packages.\n"
          ]
        }
      ],
      "source": [
        "pip install mlxtend"
      ]
    },
    {
      "cell_type": "code",
      "execution_count": null,
      "id": "d084996f-2596-4c92-88d2-271d6894a5a1",
      "metadata": {
        "id": "d084996f-2596-4c92-88d2-271d6894a5a1"
      },
      "outputs": [],
      "source": [
        "import pandas as pd\n",
        "from mlxtend.frequent_patterns import apriori, association_rules"
      ]
    },
    {
      "cell_type": "code",
      "execution_count": null,
      "id": "ced21d16-879b-4c00-97be-27d2c475949a",
      "metadata": {
        "id": "ced21d16-879b-4c00-97be-27d2c475949a"
      },
      "outputs": [],
      "source": [
        "dataset = [\n",
        "    ['milk', 'bread', 'nuts', 'apple'],\n",
        "    ['milk', 'bread', 'nuts'],\n",
        "    ['milk', 'bread',],\n",
        "    ['milk', 'apple'],\n",
        "    ['milk', 'bread', 'apple'],\n",
        "    ['milk', 'bread', 'apple'],\n",
        "    ['bread', 'nuts']\n",
        "]"
      ]
    },
    {
      "cell_type": "code",
      "execution_count": null,
      "id": "057821d2-7a6a-4c68-91e2-133b61388a8e",
      "metadata": {
        "id": "057821d2-7a6a-4c68-91e2-133b61388a8e"
      },
      "outputs": [],
      "source": [
        "from mlxtend.preprocessing import TransactionEncoder\n",
        "te =  TransactionEncoder()\n",
        "te_array = te.fit(dataset).transform(dataset)\n",
        "df = pd.DataFrame(te_array, columns=te.columns_)"
      ]
    },
    {
      "cell_type": "code",
      "execution_count": null,
      "id": "856f13de-dd52-4f0e-88e8-1b6545253d34",
      "metadata": {
        "id": "856f13de-dd52-4f0e-88e8-1b6545253d34",
        "outputId": "20888464-ed9d-4093-eb31-20d61d65b139"
      },
      "outputs": [
        {
          "name": "stdout",
          "output_type": "stream",
          "text": [
            "One-Hot Encoded Transaction Data:\n",
            "   apple  bread   milk   nuts\n",
            "0   True   True   True   True\n",
            "1  False   True   True   True\n",
            "2  False   True   True  False\n",
            "3   True  False   True  False\n",
            "4   True   True   True  False\n",
            "5   True   True   True  False\n",
            "6  False   True  False   True\n"
          ]
        }
      ],
      "source": [
        "print(\"One-Hot Encoded Transaction Data:\")\n",
        "print(df)"
      ]
    },
    {
      "cell_type": "code",
      "execution_count": null,
      "id": "62e93dd0-55c8-4039-8558-e302a22baf70",
      "metadata": {
        "id": "62e93dd0-55c8-4039-8558-e302a22baf70",
        "outputId": "b2bdd047-463c-4cfb-c35c-bd89dfd8c642"
      },
      "outputs": [
        {
          "name": "stdout",
          "output_type": "stream",
          "text": [
            "\n",
            " Frequent Itemsets:\n",
            "    support              itemsets\n",
            "0  0.571429               (apple)\n",
            "1  0.857143               (bread)\n",
            "2  0.857143                (milk)\n",
            "3  0.428571                (nuts)\n",
            "4  0.428571        (apple, bread)\n",
            "5  0.571429         (apple, milk)\n",
            "6  0.714286         (milk, bread)\n",
            "7  0.428571         (nuts, bread)\n",
            "8  0.428571  (apple, milk, bread)\n"
          ]
        }
      ],
      "source": [
        "frequent_itemsets = apriori(df, min_support=0.3, use_colnames=True)\n",
        "print(\"\\n Frequent Itemsets:\")\n",
        "print(frequent_itemsets)"
      ]
    },
    {
      "cell_type": "code",
      "execution_count": null,
      "id": "3564991b-40ae-451b-9e8e-de4972f4b6d1",
      "metadata": {
        "id": "3564991b-40ae-451b-9e8e-de4972f4b6d1",
        "outputId": "39dffb5b-1037-409b-c90a-d30deeef7956"
      },
      "outputs": [
        {
          "name": "stdout",
          "output_type": "stream",
          "text": [
            "\n",
            " Association Rules:\n",
            "      antecedents     consequents   support      lift  confidence      lift\n",
            "0         (apple)          (milk)  0.571429  1.166667    1.000000  1.166667\n",
            "1          (milk)         (apple)  0.571429  1.166667    0.666667  1.166667\n",
            "2          (nuts)         (bread)  0.428571  1.166667    1.000000  1.166667\n",
            "3         (bread)          (nuts)  0.428571  1.166667    0.500000  1.166667\n",
            "4  (apple, bread)          (milk)  0.428571  1.166667    1.000000  1.166667\n",
            "5   (milk, bread)         (apple)  0.428571  1.050000    0.600000  1.050000\n",
            "6         (apple)   (milk, bread)  0.428571  1.050000    0.750000  1.050000\n",
            "7          (milk)  (apple, bread)  0.428571  1.166667    0.500000  1.166667\n"
          ]
        }
      ],
      "source": [
        "rules = association_rules(frequent_itemsets, metric = \"lift\", min_threshold=1.0)\n",
        "print(\"\\n Association Rules:\")\n",
        "print(rules[['antecedents', 'consequents', 'support', 'lift' , 'confidence', 'lift']])"
      ]
    },
    {
      "cell_type": "code",
      "execution_count": null,
      "id": "cec11638-2def-4e8c-ab41-8fd32afea149",
      "metadata": {
        "id": "cec11638-2def-4e8c-ab41-8fd32afea149",
        "outputId": "e96e93a6-c33a-43b0-a45e-94ae335a6d14"
      },
      "outputs": [
        {
          "name": "stdout",
          "output_type": "stream",
          "text": [
            "\n",
            " Top Rules by Lifts:\n",
            "      antecedents     consequents   support      lift  confidence      lift\n",
            "0         (apple)          (milk)  0.571429  1.166667    1.000000  1.166667\n",
            "1          (milk)         (apple)  0.571429  1.166667    0.666667  1.166667\n",
            "2          (nuts)         (bread)  0.428571  1.166667    1.000000  1.166667\n",
            "3         (bread)          (nuts)  0.428571  1.166667    0.500000  1.166667\n",
            "4  (apple, bread)          (milk)  0.428571  1.166667    1.000000  1.166667\n",
            "5   (milk, bread)         (apple)  0.428571  1.050000    0.600000  1.050000\n",
            "6         (apple)   (milk, bread)  0.428571  1.050000    0.750000  1.050000\n",
            "7          (milk)  (apple, bread)  0.428571  1.166667    0.500000  1.166667\n"
          ]
        }
      ],
      "source": [
        "ruloe = rules.sort_values(by='lift', ascending=False)\n",
        "print(\"\\n Top Rules by Lifts:\")\n",
        "print(rules[['antecedents', 'consequents', 'support', 'lift' , 'confidence', 'lift']])"
      ]
    },
    {
      "cell_type": "code",
      "execution_count": null,
      "id": "846da84a-9bcc-4d0e-81ec-43715605c86e",
      "metadata": {
        "id": "846da84a-9bcc-4d0e-81ec-43715605c86e"
      },
      "outputs": [],
      "source": []
    }
  ],
  "metadata": {
    "kernelspec": {
      "display_name": "Python [conda env:anaconda3]",
      "language": "python",
      "name": "conda-env-anaconda3-py"
    },
    "language_info": {
      "codemirror_mode": {
        "name": "ipython",
        "version": 3
      },
      "file_extension": ".py",
      "mimetype": "text/x-python",
      "name": "python",
      "nbconvert_exporter": "python",
      "pygments_lexer": "ipython3",
      "version": "3.12.7"
    },
    "colab": {
      "provenance": [],
      "include_colab_link": true
    }
  },
  "nbformat": 4,
  "nbformat_minor": 5
}