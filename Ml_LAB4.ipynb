{
  "nbformat": 4,
  "nbformat_minor": 0,
  "metadata": {
    "colab": {
      "provenance": [],
      "authorship_tag": "ABX9TyNHWGShRfYV9PE2f8AdtzrN",
      "include_colab_link": true
    },
    "kernelspec": {
      "name": "python3",
      "display_name": "Python 3"
    },
    "language_info": {
      "name": "python"
    }
  },
  "cells": [
    {
      "cell_type": "markdown",
      "metadata": {
        "id": "view-in-github",
        "colab_type": "text"
      },
      "source": [
        "<a href=\"https://colab.research.google.com/github/Xtrmcoder/MachineLearning_Lab/blob/main/Ml_LAB4.ipynb\" target=\"_parent\"><img src=\"https://colab.research.google.com/assets/colab-badge.svg\" alt=\"Open In Colab\"/></a>"
      ]
    },
    {
      "cell_type": "code",
      "execution_count": 2,
      "metadata": {
        "id": "8mav8lkP1Rhc"
      },
      "outputs": [],
      "source": [
        "import numpy as np\n",
        "import pandas as pd\n",
        "import matplotlib as plt"
      ]
    },
    {
      "cell_type": "code",
      "source": [
        "data = np.array([\n",
        "    [2.5, 0.5, 1.2],\n",
        "    [0.3, 4.2, 1.9],\n",
        "    [4.1, 6.2, 0.7],\n",
        "    [2.2, 0.5, 3.2],\n",
        "    [3.1, 2.3, 9.2],\n",
        "    [1.0, 3.0, 2.1],\n",
        "    [1.4, 2.3, 3.4],\n",
        "    [1.1, 0.9, 0.2]\n",
        "\n",
        "])\n",
        "df = pd.DataFrame(data, columns=['X', 'Y', 'Z'])\n",
        "print(df)"
      ],
      "metadata": {
        "colab": {
          "base_uri": "https://localhost:8080/"
        },
        "id": "yy6QTzn83Eoh",
        "outputId": "cadaac5d-d203-4565-e2f1-dd6b1586e2cc"
      },
      "execution_count": 3,
      "outputs": [
        {
          "output_type": "stream",
          "name": "stdout",
          "text": [
            "     X    Y    Z\n",
            "0  2.5  0.5  1.2\n",
            "1  0.3  4.2  1.9\n",
            "2  4.1  6.2  0.7\n",
            "3  2.2  0.5  3.2\n",
            "4  3.1  2.3  9.2\n",
            "5  1.0  3.0  2.1\n",
            "6  1.4  2.3  3.4\n",
            "7  1.1  0.9  0.2\n"
          ]
        }
      ]
    },
    {
      "cell_type": "code",
      "source": [
        "standardized_df = (df - df.mean()) / df.std()"
      ],
      "metadata": {
        "id": "-27KsE-k3KAT"
      },
      "execution_count": 4,
      "outputs": []
    },
    {
      "cell_type": "code",
      "source": [
        "cov_matrix = np.cov(standardized_df.T)"
      ],
      "metadata": {
        "id": "FQf0VJEY3Ofh"
      },
      "execution_count": 6,
      "outputs": []
    },
    {
      "cell_type": "code",
      "source": [
        "eig_vals, eig_vecs = np.linalg.eig(cov_matrix)"
      ],
      "metadata": {
        "id": "Ghta7TVx3Sde"
      },
      "execution_count": 7,
      "outputs": []
    },
    {
      "cell_type": "code",
      "source": [
        "sorted_indices = np.argsort(eig_vals)[::-1]\n",
        "sorted_eig_vals = eig_vals[sorted_indices]\n",
        "sorted_eig_vecs = eig_vecs[:, sorted_indices]"
      ],
      "metadata": {
        "id": "jcxmnqaV3ejM"
      },
      "execution_count": 8,
      "outputs": []
    },
    {
      "cell_type": "code",
      "source": [
        "eig_vecs_subset = eig_vecs[:, :2]"
      ],
      "metadata": {
        "id": "bLPJmCIh38kC"
      },
      "execution_count": 9,
      "outputs": []
    },
    {
      "cell_type": "code",
      "source": [
        "reduced_data = standardized_df.to_numpy().dot(eig_vecs_subset)\n",
        "reduced_df = pd.DataFrame(reduced_data, columns=['PC1', 'PC2'])"
      ],
      "metadata": {
        "id": "3HsViM__4FWR"
      },
      "execution_count": 11,
      "outputs": []
    },
    {
      "cell_type": "code",
      "source": [
        "print(\"\\nReduced Data (after PCA):\\n\", reduced_df)"
      ],
      "metadata": {
        "colab": {
          "base_uri": "https://localhost:8080/"
        },
        "id": "rmby8EWz4aya",
        "outputId": "75bc9058-44af-497c-a1d0-89980ab08133"
      },
      "execution_count": 12,
      "outputs": [
        {
          "output_type": "stream",
          "name": "stdout",
          "text": [
            "\n",
            "Reduced Data (after PCA):\n",
            "         PC1       PC2\n",
            "0 -1.111430 -0.383311\n",
            "1  1.169915 -0.743061\n",
            "2 -0.477377  1.850454\n",
            "3 -0.578320 -0.248797\n",
            "4  0.580947  1.673656\n",
            "5  0.517687 -0.566887\n",
            "6  0.365088 -0.281512\n",
            "7 -0.466511 -1.300542\n"
          ]
        }
      ]
    },
    {
      "cell_type": "code",
      "source": [
        "import matplotlib.pyplot as plt\n",
        "plt.figure(figsize=(8, 6))\n",
        "plt.scatter(reduced_df['PC1'], reduced_df['PC2'], color='blue', edgecolor='k')\n",
        "plt.title('2D PCA Projection')\n",
        "plt.xlabel('Principal Component 1')\n",
        "plt.ylabel('Principal Component 2')\n",
        "plt.grid(True)\n",
        "plt.show()"
      ],
      "metadata": {
        "colab": {
          "base_uri": "https://localhost:8080/",
          "height": 564
        },
        "id": "WfW6NUmu4y6B",
        "outputId": "6eb3e8e2-db68-4229-fc5f-e08b97e2951e"
      },
      "execution_count": 14,
      "outputs": [
        {
          "output_type": "display_data",
          "data": {
            "text/plain": [
              "<Figure size 800x600 with 1 Axes>"
            ],
            "image/png": "[encoded data removed]"
          },
          "metadata": {}
        }
      ]
    }
  ]
}